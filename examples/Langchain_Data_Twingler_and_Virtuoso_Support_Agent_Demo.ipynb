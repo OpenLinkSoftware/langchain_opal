{
  "cells": [
    {
      "cell_type": "code",
      "execution_count": null,
      "metadata": {
        "colab": {
          "base_uri": "https://localhost:8080/"
        },
        "id": "b3I-ffol_PhR",
        "outputId": "e80aecb5-5288-48bf-c0e9-5e6ed326341d"
      },
      "outputs": [],
      "source": [
        "! pip install -U git+https://github.com/OpenLinkSoftware/langchain_opal.git"
      ]
    },
    {
      "cell_type": "markdown",
      "metadata": {},
      "source": [
        "Initialize OPAL binding to the OpenAI Completions API."
      ]
    },
    {
      "cell_type": "code",
      "execution_count": 2,
      "metadata": {
        "colab": {
          "base_uri": "https://localhost:8080/"
        },
        "id": "9cKHw-Se_czx",
        "outputId": "35f0bc66-ce9a-485c-f26c-44947fa19200"
      },
      "outputs": [],
      "source": [
        "import os\n",
        "\n",
        "os.environ[\"OPENAI_API_KEY\"] = \"sk-xxxx\"\n",
        "os.environ[\"OPENLINK_API_KEY\"] = \"xxxxxx\"\n",
        "\n",
        "\n",
        "from langchain_opal import ChatOpal"
      ]
    },
    {
      "cell_type": "markdown",
      "metadata": {},
      "source": [
        "Now that my OPAL environment is successfully initialized, I can list available Agents."
      ]
    },
    {
      "cell_type": "code",
      "execution_count": 29,
      "metadata": {
        "colab": {
          "base_uri": "https://localhost:8080/"
        },
        "id": "qfX7Gnvp_p_A",
        "outputId": "36bfda3e-096c-4969-f884-6d75be0ad537"
      },
      "outputs": [
        {
          "name": "stdout",
          "output_type": "stream",
          "text": [
            "id= system-virtuoso-support-assistant-config \t title= Virtuoso Support Agent v1.1.72\n",
            "id= system-uda-support-assistant-config      \t title= OpenLink Support Agent for ODBC and JDBC v1.0.37\n",
            "id= system-database-admin-config             \t title= Virtuoso DB Admin Assistant v1.0.0\n",
            "id= system-udasupportassistantconfigtemp     \t title= OpenLink Support Agent for ODBC and JDBC v1.0.30\n",
            "id= system-virtuososupportassistantconfiglast \t title= Virtuoso Support Agent v1.1.70\n",
            "id= system-opml-rss-news-reader              \t title= OPML and RSS News Reader Assistant v1.0.38\n",
            "id= system-www-support-assistant-config      \t title= OpenLink General Customer Support Agent v1.0.04\n",
            "id= system-data-twingler-config              \t title= OpenLink Data Twingler v2.0.4\n"
          ]
        }
      ],
      "source": [
        "# print list of AI Agents (Assistants)\n",
        "lst = ChatOpal.get_finetunes_list()\n",
        "for x in lst:\n",
        "    print(f\"id= {x['chat_id']:40} \\t title= {x['title']}\")"
      ]
    },
    {
      "cell_type": "markdown",
      "metadata": {},
      "source": [
        "I can also list Virtuoso Stored Procedures that have been published as OpenAPI-compliant Web Services and registered with OPAL for use via various Agents."
      ]
    },
    {
      "cell_type": "code",
      "execution_count": 30,
      "metadata": {
        "colab": {
          "base_uri": "https://localhost:8080/"
        },
        "id": "l0nt1jLi_vqc",
        "outputId": "2a12d465-819d-46a2-8247-b1d42b5f8b9e"
      },
      "outputs": [
        {
          "name": "stdout",
          "output_type": "stream",
          "text": [
            "function= DB.DBA.graphqlQuery            \t title= GraphQL Query Execution\n",
            "function= DB.DBA.vos_howto_search        \t title= VOS KB Search\n",
            "function= Demo.demo.execute_sql_query    \t title= NW SQL Query\n",
            "function= Demo.demo.execute_spasql_query \t title= SPASQL Query\n",
            "function= DB.DBA.graphqlEndpointQuery    \t title= GraphQL Query Execution scoped to an Endpoint\n",
            "function= UB.DBA.uda_howto               \t title= UDA HowTo Guides Text Focused\n"
          ]
        }
      ],
      "source": [
        "# print list of External Functions (SQL Stored Procedures published as OpenAPI-compliant Web Services)\n",
        "lst = ChatOpal.get_functions_list()\n",
        "for x in lst:\n",
        "    print(f\"function= {x['function']:30} \\t title= {x['title']}\")"
      ]
    },
    {
      "cell_type": "markdown",
      "metadata": {},
      "source": [
        "Initializing the Data Twingler Agent for continued Conversational Interactions via OpenAI's Completions API."
      ]
    },
    {
      "cell_type": "code",
      "execution_count": 4,
      "metadata": {
        "colab": {
          "base_uri": "https://localhost:8080/"
        },
        "id": "6q5dQPNZ_5rf",
        "outputId": "3fa0dbb7-0a4b-4828-9f25-f65fdec79c34"
      },
      "outputs": [],
      "source": [
        "llm = ChatOpal(\n",
        "    model_name=\"gpt-4o\",\n",
        "    temperature=0.2,\n",
        "    top_p=0.5,\n",
        "    api_base=\"https://linkeddata.uriburner.com\",\n",
        "    finetune=\"system-data-twingler-config\",\n",
        "    funcs_list=[\"UB.DBA.sparqlQuery\", \"DB.DBA.vos_howto_search\", \"Demo.demo.execute_sql_query\", \"DB.DBA.graphqlQuery\"],\n",
        "    continue_chat=True,\n",
        ")"
      ]
    },
    {
      "cell_type": "markdown",
      "metadata": {},
      "source": [
        "Start my conversational interactions with the Data Twingler Assistant."
      ]
    },
    {
      "cell_type": "code",
      "execution_count": null,
      "metadata": {},
      "outputs": [],
      "source": [
        "messages = [\n",
        "        (\"human\", \"Who are you and what's your version?\")\n",
        "    ]\n",
        "resp = llm.invoke(messages)\n",
        "print(resp)\n",
        "print(\"----------------------------------\")\n",
        "print(resp.content)"
      ]
    },
    {
      "cell_type": "code",
      "execution_count": null,
      "metadata": {},
      "outputs": [],
      "source": [
        "messages = [\n",
        "        (\"human\", \"Create and execute a sample SQL Query.\")\n",
        "    ]\n",
        "resp = llm.invoke(messages)\n",
        "print(resp)\n",
        "print(\"----------------------------------\")\n",
        "print(resp.content)"
      ]
    },
    {
      "cell_type": "code",
      "execution_count": null,
      "metadata": {},
      "outputs": [],
      "source": [
        "messages = [\n",
        "        (\"human\", \"Create and execute a basic SPARQL Query using a timeout of 30000 msecs.\")\n",
        "    ]\n",
        "resp = llm.invoke(messages)\n",
        "print(resp)\n",
        "print(\"----------------------------------\")\n",
        "print(resp.content)"
      ]
    },
    {
      "cell_type": "code",
      "execution_count": null,
      "metadata": {},
      "outputs": [],
      "source": [
        "messages = [\n",
        "        (\"human\", \"Create and execute a sample SPASQL Query.\")\n",
        "    ]\n",
        "resp = llm.invoke(messages)\n",
        "print(resp)\n",
        "print(\"----------------------------------\")\n",
        "print(resp.content)"
      ]
    },
    {
      "cell_type": "code",
      "execution_count": null,
      "metadata": {},
      "outputs": [],
      "source": [
        "messages = [\n",
        "        (\"human\", \"Create a SPARQL encoded URL for a SPARQL-FED Query that lists movies directed by Spike Lee in HTML.\")\n",
        "    ]\n",
        "resp = llm.invoke(messages)\n",
        "print(resp)\n",
        "print(\"----------------------------------\")\n",
        "print(resp.content)"
      ]
    },
    {
      "cell_type": "markdown",
      "metadata": {},
      "source": [
        "This also demonstrates the utility of hyperlinks as data source names that might be constrained by an acl as part of a data priviacy strategy when interacting with LLMs."
      ]
    },
    {
      "cell_type": "code",
      "execution_count": null,
      "metadata": {},
      "outputs": [],
      "source": [
        "messages = [\n",
        "        (\"human\", \"Create and execute a GraphQL Query.\")\n",
        "    ]\n",
        "resp = llm.invoke(messages)\n",
        "print(resp)\n",
        "print(\"----------------------------------\")\n",
        "print(resp.content)"
      ]
    },
    {
      "cell_type": "markdown",
      "metadata": {},
      "source": [
        "Change over to using OPAL's binding to the OpenAI Assistants API, and select an Assistant using its ID (see listing produced below). Note: Unlike the Completions API, interaction with the Assistant's API is based on configurations stored remotely with OpenAI which is why only the Assistant ID is required.\n",
        "\n",
        "**Intitialize OPAL binding for the OpenAI Assistants API**"
      ]
    },
    {
      "cell_type": "code",
      "execution_count": 11,
      "metadata": {},
      "outputs": [
        {
          "name": "stdout",
          "output_type": "stream",
          "text": [
            "id= asst_WYmfuZNFb7DEmLmaoS0WohzZ  name= Virtuoso Support\n",
            "id= asst_clvslKFP66fYr9071Eb8iV8Q  name= Data Twingler\n",
            "id= asst_CIx4iIZsFh0eXJuUdvPkknai  name= Virtuoso Help\n",
            "id= asst_9SnDtlNwgiKGlB6qPW03umwK  name= Facet Browser\n",
            "id= asst_f31hzuQd2WdW8zMNh4UDs3AZ  name= Code Commenter\n",
            "id= asst_b1jN9IRfQpDBiOcK0Uaq0oSe  name= VirtDocs\n",
            "id= asst_0lxUCBpjHvizxBYj5XIajKnD  name= UDA Support\n",
            "id= asst_DK8YFhTviAHXYHA58RVXuHG6  name= Virtuoso Support FS\n",
            "id= asst_mQArllXRQitD6FZn37rvb6cJ  name= KI Test Assistant\n",
            "id= asst_UQj20z2dmj0BZYdP4UVD3mhx  name= New Virtuoso Support Assistant\n",
            "id= asst_8E2zmHm7hGNxHxFHQVI0GxAb  name= New Virtuoso Support Assistant\n",
            "id= asst_DXoIUdAdgtqJXaMQcYFHxpb3  name= Test\n",
            "id= asst_GzosFHBtZXfJ1CQgdKEo3p9c  name= Code Clone\n",
            "id= asst_IcfB5bT1ep4SQW5vbNFChnX4  name= Default\n",
            "id= asst_4iKvyqdYM4pECWn0CfLDhovD  name= Test Virtuoso Assistant\n",
            "id= asst_j8xqQEIioNWIimS5YphFtbqj  name= My OPML & RSS Reader\n",
            "id= asst_3gg6fcbkidGbtYnQalF0wNoA  name= Test assistant(QA)\n",
            "id= asst_Ef9NvSXp2omoUxmMD3OyOpXL  name= My OPML & RSS Reader\n",
            "id= asst_fR9VMkHn8iLlqJm3GiH4mqhI  name= Virtuoso Support Assistant -- KI New\n",
            "id= asst_W8ptEIHALd6Ol1G4sN7p4CjW  name= New UDA Support Assistant\n",
            "id= asst_u7m6FaJw1meeWr6hwvcfuAsQ  name= New OpenLink Support Assistant\n",
            "id= asst_ZY0qwGRAwsSNYrNHLqdI7Xxe  name= Test OPML & RSS Reader \n",
            "id= asst_2cj8h4trjtuNGwX9R7uQRYdM  name= PDF Reader Assistant\n",
            "id= asst_enVSpbnTzWgmqup9vEjZWV4E  name= New Data Twingler Assistant\n",
            "id= asst_pcnONIrtgLYaIEdbUnTwz8jB  name= New Virtuoso Support Agent MD\n",
            "id= asst_68B8RZR2rMxZateae4ihnJ5A  name= New UDA Support Agent MD\n"
          ]
        }
      ],
      "source": [
        "from langchain_opal import ChatOpalAssistant\n",
        "\n",
        "# print list of Assistants\n",
        "lst = ChatOpalAssistant.get_assistants_list()\n",
        "for x in lst:\n",
        "    print(f\"id= {x['id']}  name= {x['name']}\")"
      ]
    },
    {
      "cell_type": "markdown",
      "metadata": {},
      "source": [
        "Virtuoso Support Agent Initialization for continued Conversational Interactions via OpenAI's Assistants API."
      ]
    },
    {
      "cell_type": "code",
      "execution_count": 12,
      "metadata": {},
      "outputs": [],
      "source": [
        "llm = ChatOpalAssistant(\n",
        "    temperature=0.2,\n",
        "    top_p=0.5,\n",
        "    api_base=\"https://linkeddata.uriburner.com\",\n",
        "    assistant_id=\"asst_pcnONIrtgLYaIEdbUnTwz8jB\",\n",
        "    funcs_list=None,\n",
        "    continue_thread=True,\n",
        ")\n"
      ]
    },
    {
      "cell_type": "markdown",
      "metadata": {},
      "source": [
        "Virtuoso Support Agent interactions."
      ]
    },
    {
      "cell_type": "code",
      "execution_count": null,
      "metadata": {},
      "outputs": [],
      "source": [
        "messages = [\n",
        "        (\"human\", \"Who are you and what's your version?\")\n",
        "    ]\n",
        "resp = llm.invoke(messages)\n",
        "print(resp)\n",
        "print(\"----------------------------------\")\n",
        "print(resp.content)"
      ]
    },
    {
      "cell_type": "code",
      "execution_count": null,
      "metadata": {},
      "outputs": [],
      "source": [
        "messages = [\n",
        "        (\"human\", \"What is Virtuoso, and why is it important?\")\n",
        "    ]\n",
        "resp = llm.invoke(messages)\n",
        "print(resp)\n",
        "print(\"----------------------------------\")\n",
        "print(resp.content)"
      ]
    },
    {
      "cell_type": "code",
      "execution_count": null,
      "metadata": {},
      "outputs": [],
      "source": [
        "messages = [\n",
        "        (\"human\", \"Key use case examples?\")\n",
        "    ]\n",
        "resp = llm.invoke(messages)\n",
        "print(resp)\n",
        "print(\"----------------------------------\")\n",
        "print(resp.content)"
      ]
    },
    {
      "cell_type": "code",
      "execution_count": null,
      "metadata": {},
      "outputs": [],
      "source": [
        "messages = [\n",
        "        (\"human\", \"How does it impact AI usage?\")\n",
        "    ]\n",
        "resp = llm.invoke(messages)\n",
        "print(resp)\n",
        "print(\"----------------------------------\")\n",
        "print(resp.content)"
      ]
    },
    {
      "cell_type": "code",
      "execution_count": null,
      "metadata": {},
      "outputs": [],
      "source": [
        "messages = [\n",
        "        (\"human\", \"How does it handle data integration and semantic harmonization?\")\n",
        "    ]\n",
        "resp = llm.invoke(messages)\n",
        "print(resp)\n",
        "print(\"----------------------------------\")\n",
        "print(resp.content)"
      ]
    },
    {
      "cell_type": "code",
      "execution_count": null,
      "metadata": {
        "colab": {
          "base_uri": "https://localhost:8080/"
        },
        "id": "EDMCnj7tAMDM",
        "outputId": "70145eac-72de-46af-c608-f17d26cd159d"
      },
      "outputs": [],
      "source": [
        "messages = [\n",
        "        (\"human\", \"I want to purchase the cheapest Virtuoso online offer.\")\n",
        "    ]\n",
        "resp = llm.invoke(messages)\n",
        "print(resp)\n",
        "print(\"----------------------------------\")\n",
        "print(resp.content)"
      ]
    },
    {
      "cell_type": "code",
      "execution_count": null,
      "metadata": {
        "colab": {
          "base_uri": "https://localhost:8080/"
        },
        "id": "JuUhFBRKDGbG",
        "outputId": "888d8519-ffbb-418f-d2c3-c7ffa9028005"
      },
      "outputs": [],
      "source": [
        "messages = [\n",
        "        (\"human\", \"I want to purchase the most expensive Virtuoso online offer.\")\n",
        "    ]\n",
        "resp = llm.invoke(messages)\n",
        "print(resp)\n",
        "print(\"----------------------------------\")\n",
        "print(resp.content)"
      ]
    },
    {
      "cell_type": "code",
      "execution_count": null,
      "metadata": {
        "colab": {
          "base_uri": "https://localhost:8080/"
        },
        "id": "kpeZ9fQEDQhC",
        "outputId": "fa1f0042-4ae1-4e2b-ae3a-86ce54f2f137"
      },
      "outputs": [],
      "source": [
        "messages = [),\n",
        "        (\"human\", \"How do I install Virtuoso on macOS?\")\n",
        "    ]\n",
        "resp = llm.invoke(messages)\n",
        "print(resp)\n",
        "print(\"----------------------------------\")\n",
        "print(resp.content)"
      ]
    },
    {
      "cell_type": "code",
      "execution_count": null,
      "metadata": {
        "colab": {
          "base_uri": "https://localhost:8080/"
        },
        "id": "QaO7KA6_IwcY",
        "outputId": "3ae91f52-3563-4321-9b54-d0fd38da6c95"
      },
      "outputs": [],
      "source": [
        "messages = [\n",
        "        (\"human\", \"List the cheapest Virtuoso online offer.\")\n",
        "    ]\n",
        "resp = llm.invoke(messages)\n",
        "print(resp)\n",
        "print(\"----------------------------------\")\n",
        "print(resp.content)"
      ]
    },
    {
      "cell_type": "code",
      "execution_count": null,
      "metadata": {
        "colab": {
          "base_uri": "https://localhost:8080/"
        },
        "id": "AnrgH5BAJNnJ",
        "outputId": "e719aa7c-8091-47e3-8ecd-2f03795f5b06"
      },
      "outputs": [],
      "source": [
        "messages = [\n",
        "        (\"human\", \"How do I install Virtuoso on macOS?\")\n",
        "    ]\n",
        "resp = llm.invoke(messages)\n",
        "print(resp)\n",
        "print(\"----------------------------------\")\n",
        "print(resp.content)"
      ]
    },
    {
      "cell_type": "code",
      "execution_count": null,
      "metadata": {
        "colab": {
          "base_uri": "https://localhost:8080/"
        },
        "id": "IHUurvt0JYoq",
        "outputId": "b3fb3ba8-ce5e-47c3-ad83-e992dee23d89"
      },
      "outputs": [],
      "source": [
        "messages = [\n",
        "        (\"human\", \"Where do I place Virtuoso license files?\")\n",
        "    ]\n",
        "resp = llm.invoke(messages)\n",
        "print(resp)\n",
        "print(\"----------------------------------\")\n",
        "print(resp.content)"
      ]
    }
  ],
  "metadata": {
    "colab": {
      "provenance": []
    },
    "kernelspec": {
      "display_name": "Python 3",
      "name": "python3"
    },
    "language_info": {
      "codemirror_mode": {
        "name": "ipython",
        "version": 3
      },
      "file_extension": ".py",
      "mimetype": "text/x-python",
      "name": "python",
      "nbconvert_exporter": "python",
      "pygments_lexer": "ipython3",
      "version": "3.11.6"
    }
  },
  "nbformat": 4,
  "nbformat_minor": 0
}
